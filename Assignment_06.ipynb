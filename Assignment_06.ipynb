{
  "cells": [
    {
      "cell_type": "code",
      "execution_count": 1,
      "metadata": {
        "id": "hw9UGjjTREfT"
      },
      "outputs": [],
      "source": [
        "import numpy as np\n",
        "import pandas as pd\n",
        "import seaborn as sns\n",
        "from matplotlib import pyplot as plt\n",
        "import missingno as msno\n",
        "from datetime import date\n",
        "from sklearn.metrics import accuracy_score\n",
        "from sklearn.model_selection import train_test_split\n",
        "from sklearn.neighbors import LocalOutlierFactor\n",
        "from sklearn.preprocessing import MinMaxScaler, LabelEncoder, StandardScaler, RobustScaler"
      ]
    },
    {
      "cell_type": "code",
      "execution_count": 2,
      "metadata": {
        "colab": {
          "base_uri": "https://localhost:8080/"
        },
        "id": "LY14L4nkRLOP",
        "outputId": "f61f14da-9370-49f1-f10f-c0fb46e7e1d9"
      },
      "outputs": [
        {
          "name": "stdout",
          "output_type": "stream",
          "text": [
            "(307511, 122)\n"
          ]
        }
      ],
      "source": [
        "def load_application_train():\n",
        "    data = pd.read_csv(\"/content/drive/MyDrive/Colab Notebooks/Dataset/application_train.csv\")\n",
        "    return data\n",
        "df = load_application_train()\n",
        "print(df.shape)"
      ]
    },
    {
      "cell_type": "markdown",
      "metadata": {
        "id": "FsFD3JkWTFl0"
      },
      "source": []
    },
    {
      "cell_type": "code",
      "execution_count": 3,
      "metadata": {
        "colab": {
          "base_uri": "https://localhost:8080/"
        },
        "id": "YCtKQaYXRPLI",
        "outputId": "7bcaa280-110d-464d-8d86-771362f88bfc"
      },
      "outputs": [
        {
          "name": "stdout",
          "output_type": "stream",
          "text": [
            "(891, 12)\n"
          ]
        }
      ],
      "source": [
        "def load():\n",
        "    data = pd.read_csv(\"/content/drive/MyDrive/Colab Notebooks/Dataset/titanic.csv\")\n",
        "    return data\n",
        "\n",
        "df = load()\n",
        "print(df.shape)"
      ]
    },
    {
      "cell_type": "code",
      "execution_count": 4,
      "metadata": {
        "colab": {
          "base_uri": "https://localhost:8080/",
          "height": 449
        },
        "id": "YsSHEV3SRZP-",
        "outputId": "0042010c-9ff3-4829-ecf7-a796b9f067d5"
      },
      "outputs": [
        {
          "data": {
            "image/png": "[encoded data removed]",
            "text/plain": [
              "<Figure size 640x480 with 1 Axes>"
            ]
          },
          "metadata": {},
          "output_type": "display_data"
        }
      ],
      "source": [
        "sns.boxplot(x=df[\"Age\"])\n",
        "plt.show()"
      ]
    },
    {
      "cell_type": "code",
      "execution_count": 5,
      "metadata": {
        "id": "w5GmD4NSRc6q"
      },
      "outputs": [],
      "source": [
        "q1 = df[\"Age\"].quantile(0.25)\n",
        "q3 = df[\"Age\"].quantile(0.75)\n",
        "iqr = q3 - q1\n",
        "up = q3 + 1.5 * iqr\n",
        "low = q1 - 1.5 * iqr"
      ]
    },
    {
      "cell_type": "code",
      "execution_count": 6,
      "metadata": {
        "colab": {
          "base_uri": "https://localhost:8080/"
        },
        "id": "k2HIWtjrRg7b",
        "outputId": "90b8423d-386c-442a-b06f-70131bc8bd80"
      },
      "outputs": [
        {
          "name": "stdout",
          "output_type": "stream",
          "text": [
            "     PassengerId  Survived  Pclass                                  Name  \\\n",
            "33            34         0       2                 Wheadon, Mr. Edward H   \n",
            "54            55         0       1        Ostby, Mr. Engelhart Cornelius   \n",
            "96            97         0       1             Goldschmidt, Mr. George B   \n",
            "116          117         0       3                  Connors, Mr. Patrick   \n",
            "280          281         0       3                      Duane, Mr. Frank   \n",
            "456          457         0       1             Millet, Mr. Francis Davis   \n",
            "493          494         0       1               Artagaveytia, Mr. Ramon   \n",
            "630          631         1       1  Barkworth, Mr. Algernon Henry Wilson   \n",
            "672          673         0       2           Mitchell, Mr. Henry Michael   \n",
            "745          746         0       1          Crosby, Capt. Edward Gifford   \n",
            "851          852         0       3                   Svensson, Mr. Johan   \n",
            "\n",
            "      Sex   Age  SibSp  Parch      Ticket     Fare Cabin Embarked  \n",
            "33   male  66.0      0      0  C.A. 24579  10.5000   NaN        S  \n",
            "54   male  65.0      0      1      113509  61.9792   B30        C  \n",
            "96   male  71.0      0      0    PC 17754  34.6542    A5        C  \n",
            "116  male  70.5      0      0      370369   7.7500   NaN        Q  \n",
            "280  male  65.0      0      0      336439   7.7500   NaN        Q  \n",
            "456  male  65.0      0      0       13509  26.5500   E38        S  \n",
            "493  male  71.0      0      0    PC 17609  49.5042   NaN        C  \n",
            "630  male  80.0      0      0       27042  30.0000   A23        S  \n",
            "672  male  70.0      0      0  C.A. 24580  10.5000   NaN        S  \n",
            "745  male  70.0      1      1   WE/P 5735  71.0000   B22        S  \n",
            "851  male  74.0      0      0      347060   7.7750   NaN        S  \n",
            "Index([33, 54, 96, 116, 280, 456, 493, 630, 672, 745, 851], dtype='int64')\n",
            "True\n",
            "False\n"
          ]
        }
      ],
      "source": [
        "print(df[(df[\"Age\"] < low) | (df[\"Age\"] > up)])\n",
        "\n",
        "print(df[(df[\"Age\"] < low) | (df[\"Age\"] > up)].index)\n",
        "\n",
        "print(df[(df[\"Age\"] < low) | (df[\"Age\"] > up)].any(axis=None))\n",
        "\n",
        "print(df[(df[\"Age\"] < low)].any(axis=None))"
      ]
    },
    {
      "cell_type": "code",
      "execution_count": 7,
      "metadata": {
        "colab": {
          "base_uri": "https://localhost:8080/"
        },
        "id": "Fl_41_3aRj-4",
        "outputId": "b29dadd4-9da5-4f69-da66-a47a50ac388b"
      },
      "outputs": [
        {
          "name": "stdout",
          "output_type": "stream",
          "text": [
            "(-6.6875, 64.8125)\n"
          ]
        }
      ],
      "source": [
        "def outlier_thresholds(dataframe, col_name, q1=0.25, q3=0.75):\n",
        "    quartile1 = dataframe[col_name].quantile(q1)\n",
        "    quartile3 = dataframe[col_name].quantile(q3)\n",
        "    interquantile_range = quartile3 - quartile1\n",
        "    up_limit = quartile3 + 1.5 * interquantile_range\n",
        "    low_limit = quartile1 - 1.5 * interquantile_range\n",
        "    return low_limit, up_limit\n",
        "\n",
        "print(outlier_thresholds(df, \"Age\"))"
      ]
    },
    {
      "cell_type": "code",
      "execution_count": 8,
      "metadata": {
        "colab": {
          "base_uri": "https://localhost:8080/"
        },
        "id": "VXU0tUG9Rycv",
        "outputId": "7ddee78a-8ff8-40e5-fbf0-da3148192324"
      },
      "outputs": [
        {
          "name": "stdout",
          "output_type": "stream",
          "text": [
            "True\n",
            "True\n"
          ]
        }
      ],
      "source": [
        "def check_outlier(dataframe, col_name):\n",
        "    low_limit, up_limit = outlier_thresholds(dataframe, col_name)\n",
        "    if dataframe[(dataframe[col_name] > up_limit) | (dataframe[col_name] < low_limit)].any(axis=None):\n",
        "        return True\n",
        "    else:\n",
        "        return False\n",
        "\n",
        "print(check_outlier(df, \"Age\"))\n",
        "print(check_outlier(df, \"Fare\"))"
      ]
    },
    {
      "cell_type": "code",
      "execution_count": 9,
      "metadata": {
        "colab": {
          "base_uri": "https://localhost:8080/"
        },
        "id": "CItQihhzR2LD",
        "outputId": "77f09c23-cce4-48e0-8a95-2b0c42067132"
      },
      "outputs": [
        {
          "name": "stdout",
          "output_type": "stream",
          "text": [
            "    PassengerId  Survived  Pclass  \\\n",
            "1             2         1       1   \n",
            "27           28         0       1   \n",
            "31           32         1       1   \n",
            "34           35         0       1   \n",
            "52           53         1       1   \n",
            "\n",
            "                                                 Name     Sex   Age  SibSp  \\\n",
            "1   Cumings, Mrs. John Bradley (Florence Briggs Th...  female  38.0      1   \n",
            "27                     Fortune, Mr. Charles Alexander    male  19.0      3   \n",
            "31     Spencer, Mrs. William Augustus (Marie Eugenie)  female   NaN      1   \n",
            "34                            Meyer, Mr. Edgar Joseph    male  28.0      1   \n",
            "52           Harper, Mrs. Henry Sleeper (Myna Haxtun)  female  49.0      1   \n",
            "\n",
            "    Parch    Ticket      Fare        Cabin Embarked  \n",
            "1       0  PC 17599   71.2833          C85        C  \n",
            "27      2     19950  263.0000  C23 C25 C27        S  \n",
            "31      0  PC 17569  146.5208          B78        C  \n",
            "34      0  PC 17604   82.1708          NaN        C  \n",
            "52      0  PC 17572   76.7292          D33        C  \n"
          ]
        }
      ],
      "source": [
        "low, up = outlier_thresholds(df, \"Fare\")\n",
        "print(df[(df[\"Fare\"] < low) | (df[\"Fare\"] > up)].head())"
      ]
    },
    {
      "cell_type": "code",
      "execution_count": 10,
      "metadata": {
        "id": "GT_x_ApCR9iJ"
      },
      "outputs": [],
      "source": [
        "def grab_col_names(dataframe, cat_th=10, car_th=20):\n",
        "    cat_cols = [col for col in dataframe.columns if dataframe[col].dtypes == \"O\"]\n",
        "    num_but_cat = [col for col in dataframe.columns if dataframe[col].nunique() < cat_th and dataframe[col].dtypes != \"O\"]\n",
        "    cat_but_car = [col for col in dataframe.columns if dataframe[col].nunique() > car_th and dataframe[col].dtypes == \"O\"]\n",
        "    cat_cols = cat_cols + num_but_cat\n",
        "    cat_cols = [col for col in cat_cols if col not in cat_but_car]\n",
        "    num_cols = [col for col in dataframe.columns if dataframe[col].dtypes != \"O\" and col not in num_but_cat]\n",
        "\n",
        "    print(f\"Observations: {dataframe.shape[0]}\")\n",
        "    print(f\"Variables: {dataframe.shape[1]}\")\n",
        "    print(f\"cat_cols: {len(cat_cols)}\")\n",
        "    print(f\"num_cols: {len(num_cols)}\")\n",
        "    print(f\"cat_but_car: {len(cat_but_car)}\")\n",
        "    print(f\"num_but_cat: {len(num_but_cat)}\")\n",
        "\n",
        "    return cat_cols, num_cols, cat_but_car"
      ]
    },
    {
      "cell_type": "code",
      "execution_count": 11,
      "metadata": {
        "colab": {
          "base_uri": "https://localhost:8080/"
        },
        "id": "tur0waPkSxrC",
        "outputId": "db890d1d-03fe-47d8-aa13-7632a494c319"
      },
      "outputs": [
        {
          "name": "stdout",
          "output_type": "stream",
          "text": [
            "Observations: 891\n",
            "Variables: 12\n",
            "cat_cols: 6\n",
            "num_cols: 3\n",
            "cat_but_car: 3\n",
            "num_but_cat: 4\n",
            "['Age', 'Fare']\n"
          ]
        }
      ],
      "source": [
        "cat_cols, num_cols, cat_but_car = grab_col_names(df)\n",
        "num_cols = [col for col in num_cols if col not in \"PassengerId\"]\n",
        "print(num_cols)"
      ]
    },
    {
      "cell_type": "code",
      "execution_count": 12,
      "metadata": {
        "colab": {
          "base_uri": "https://localhost:8080/"
        },
        "id": "ye_Lmx2rSA5T",
        "outputId": "afa99b0c-a373-42f0-849e-cbd38acd0584"
      },
      "outputs": [
        {
          "name": "stdout",
          "output_type": "stream",
          "text": [
            "Age True\n",
            "Fare True\n"
          ]
        }
      ],
      "source": [
        "for col in num_cols:\n",
        "    print(col, check_outlier(df, col))"
      ]
    },
    {
      "cell_type": "code",
      "execution_count": 13,
      "metadata": {
        "colab": {
          "base_uri": "https://localhost:8080/"
        },
        "id": "ypYZN5VJSFb3",
        "outputId": "4f9f578d-5985-46db-9e84-044a0a2ca0e7"
      },
      "outputs": [
        {
          "name": "stdout",
          "output_type": "stream",
          "text": [
            "Observations: 307511\n",
            "Variables: 122\n",
            "cat_cols: 54\n",
            "num_cols: 67\n",
            "cat_but_car: 1\n",
            "num_but_cat: 39\n",
            "CNT_CHILDREN True\n",
            "AMT_INCOME_TOTAL True\n",
            "AMT_CREDIT True\n",
            "AMT_ANNUITY True\n",
            "AMT_GOODS_PRICE True\n",
            "REGION_POPULATION_RELATIVE True\n",
            "DAYS_BIRTH False\n",
            "DAYS_EMPLOYED True\n",
            "DAYS_REGISTRATION True\n",
            "DAYS_ID_PUBLISH False\n",
            "OWN_CAR_AGE True\n",
            "CNT_FAM_MEMBERS True\n",
            "HOUR_APPR_PROCESS_START True\n",
            "EXT_SOURCE_1 False\n",
            "EXT_SOURCE_2 False\n",
            "EXT_SOURCE_3 False\n",
            "APARTMENTS_AVG True\n",
            "BASEMENTAREA_AVG True\n",
            "YEARS_BEGINEXPLUATATION_AVG True\n",
            "YEARS_BUILD_AVG True\n",
            "COMMONAREA_AVG True\n",
            "ELEVATORS_AVG True\n",
            "ENTRANCES_AVG True\n",
            "FLOORSMAX_AVG True\n",
            "FLOORSMIN_AVG True\n",
            "LANDAREA_AVG True\n",
            "LIVINGAPARTMENTS_AVG True\n",
            "LIVINGAREA_AVG True\n",
            "NONLIVINGAPARTMENTS_AVG True\n",
            "NONLIVINGAREA_AVG True\n",
            "APARTMENTS_MODE True\n",
            "BASEMENTAREA_MODE True\n",
            "YEARS_BEGINEXPLUATATION_MODE True\n",
            "YEARS_BUILD_MODE True\n",
            "COMMONAREA_MODE True\n",
            "ELEVATORS_MODE True\n",
            "ENTRANCES_MODE True\n",
            "FLOORSMAX_MODE True\n",
            "FLOORSMIN_MODE True\n",
            "LANDAREA_MODE True\n",
            "LIVINGAPARTMENTS_MODE True\n",
            "LIVINGAREA_MODE True\n",
            "NONLIVINGAPARTMENTS_MODE True\n",
            "NONLIVINGAREA_MODE True\n",
            "APARTMENTS_MEDI True\n",
            "BASEMENTAREA_MEDI True\n",
            "YEARS_BEGINEXPLUATATION_MEDI True\n",
            "YEARS_BUILD_MEDI True\n",
            "COMMONAREA_MEDI True\n",
            "ELEVATORS_MEDI True\n",
            "ENTRANCES_MEDI True\n",
            "FLOORSMAX_MEDI True\n",
            "FLOORSMIN_MEDI True\n",
            "LANDAREA_MEDI True\n",
            "LIVINGAPARTMENTS_MEDI True\n",
            "LIVINGAREA_MEDI True\n",
            "NONLIVINGAPARTMENTS_MEDI True\n",
            "NONLIVINGAREA_MEDI True\n",
            "TOTALAREA_MODE True\n",
            "OBS_30_CNT_SOCIAL_CIRCLE True\n",
            "DEF_30_CNT_SOCIAL_CIRCLE True\n",
            "OBS_60_CNT_SOCIAL_CIRCLE True\n",
            "DAYS_LAST_PHONE_CHANGE True\n",
            "AMT_REQ_CREDIT_BUREAU_MON True\n",
            "AMT_REQ_CREDIT_BUREAU_QRT True\n",
            "AMT_REQ_CREDIT_BUREAU_YEAR True\n"
          ]
        }
      ],
      "source": [
        "dff = load_application_train()\n",
        "cat_cols, num_cols, cat_but_car = grab_col_names(dff)\n",
        "\n",
        "num_cols.remove('SK_ID_CURR')\n",
        "\n",
        "for col in num_cols:\n",
        "    print(col, check_outlier(dff, col))"
      ]
    },
    {
      "cell_type": "code",
      "execution_count": 14,
      "metadata": {
        "colab": {
          "base_uri": "https://localhost:8080/"
        },
        "id": "sCZXoa_kSLab",
        "outputId": "7146bc41-4117-4e1c-a111-2ddee5f1c334"
      },
      "outputs": [
        {
          "name": "stdout",
          "output_type": "stream",
          "text": [
            "     PassengerId  Survived  Pclass                            Name   Sex  \\\n",
            "33            34         0       2           Wheadon, Mr. Edward H  male   \n",
            "54            55         0       1  Ostby, Mr. Engelhart Cornelius  male   \n",
            "96            97         0       1       Goldschmidt, Mr. George B  male   \n",
            "116          117         0       3            Connors, Mr. Patrick  male   \n",
            "280          281         0       3                Duane, Mr. Frank  male   \n",
            "\n",
            "      Age  SibSp  Parch      Ticket     Fare Cabin Embarked  \n",
            "33   66.0      0      0  C.A. 24579  10.5000   NaN        S  \n",
            "54   65.0      0      1      113509  61.9792   B30        C  \n",
            "96   71.0      0      0    PC 17754  34.6542    A5        C  \n",
            "116  70.5      0      0      370369   7.7500   NaN        Q  \n",
            "280  65.0      0      0      336439   7.7500   NaN        Q  \n",
            "Index([33, 54, 96, 116, 280, 456, 493, 630, 672, 745, 851], dtype='int64')\n"
          ]
        }
      ],
      "source": [
        "def grab_outliers(dataframe, col_name, outlier_index=False, f=5):\n",
        "    low, up = outlier_thresholds(dataframe, col_name)\n",
        "    if dataframe[((dataframe[col_name] < low) | (dataframe[col_name] > up))].shape[0] > 10:\n",
        "        print(dataframe[((dataframe[col_name] < low) | (dataframe[col_name] > up))].head(f))\n",
        "    else:\n",
        "        print(dataframe[((dataframe[col_name] < low) | (dataframe[col_name] > up))])\n",
        "    if outlier_index:\n",
        "        out_index = dataframe[((dataframe[col_name] < low) | (dataframe[col_name] > up))].index\n",
        "        return out_index\n",
        "\n",
        "age_index = grab_outliers(df, \"Age\", True)\n",
        "print(age_index)\n",
        "\n",
        "df = load()"
      ]
    },
    {
      "cell_type": "code",
      "execution_count": 15,
      "metadata": {
        "colab": {
          "base_uri": "https://localhost:8080/"
        },
        "id": "Ck9PvF20SQB8",
        "outputId": "a47a0e21-4043-4add-fab8-5277fb4f2419"
      },
      "outputs": [
        {
          "name": "stdout",
          "output_type": "stream",
          "text": [
            "Observations: 891\n",
            "Variables: 12\n",
            "cat_cols: 6\n",
            "num_cols: 3\n",
            "cat_but_car: 3\n",
            "num_but_cat: 4\n"
          ]
        }
      ],
      "source": [
        "def remove_outlier(dataframe, col_name):\n",
        "    low_limit, up_limit = outlier_thresholds(dataframe, col_name)\n",
        "    df_without_outliers = dataframe[~((dataframe[col_name] < low_limit) | (dataframe[col_name] > up_limit))]\n",
        "    return df_without_outliers\n",
        "\n",
        "cat_cols, num_cols, cat_but_car = grab_col_names(df)\n",
        "num_cols.remove('PassengerId')\n",
        "\n",
        "for col in num_cols:\n",
        "    df = remove_outlier(df, col)"
      ]
    },
    {
      "cell_type": "code",
      "execution_count": 16,
      "metadata": {
        "colab": {
          "base_uri": "https://localhost:8080/"
        },
        "id": "JR9CX4SoSUpp",
        "outputId": "b695443d-f4df-43b5-fe83-4c8ca6e4c416"
      },
      "outputs": [
        {
          "name": "stdout",
          "output_type": "stream",
          "text": [
            "(765, 12)\n"
          ]
        }
      ],
      "source": [
        "print(df.shape)"
      ]
    },
    {
      "cell_type": "code",
      "execution_count": 17,
      "metadata": {
        "colab": {
          "base_uri": "https://localhost:8080/"
        },
        "id": "ydTpgKE6SVr5",
        "outputId": "ded1faa7-2e62-4e43-c12c-67324f8175c8"
      },
      "outputs": [
        {
          "name": "stdout",
          "output_type": "stream",
          "text": [
            "Observations: 891\n",
            "Variables: 12\n",
            "cat_cols: 6\n",
            "num_cols: 3\n",
            "cat_but_car: 3\n",
            "num_but_cat: 4\n",
            "Age True\n",
            "Fare True\n"
          ]
        }
      ],
      "source": [
        "def replace_with_thresholds(dataframe, variable):\n",
        "    low_limit, up_limit = outlier_thresholds(dataframe, variable)\n",
        "    dataframe.loc[(dataframe[variable] < low_limit), variable] = low_limit\n",
        "    dataframe.loc[(dataframe[variable] > up_limit), variable] = up_limit\n",
        "\n",
        "df = load()\n",
        "cat_cols, num_cols, cat_but_car = grab_col_names(df)\n",
        "num_cols.remove('PassengerId')\n",
        "\n",
        "for col in num_cols:\n",
        "    print(col, check_outlier(df, col))"
      ]
    },
    {
      "cell_type": "code",
      "execution_count": 18,
      "metadata": {
        "colab": {
          "base_uri": "https://localhost:8080/"
        },
        "id": "plnl52mCSVy_",
        "outputId": "20aafe2e-5294-4aa4-873f-4b754cc9b045"
      },
      "outputs": [
        {
          "name": "stdout",
          "output_type": "stream",
          "text": [
            "Age False\n",
            "Fare False\n"
          ]
        }
      ],
      "source": [
        "for col in num_cols:\n",
        "    replace_with_thresholds(df, col)\n",
        "\n",
        "for col in num_cols:\n",
        "    print(col, check_outlier(df, col))"
      ]
    },
    {
      "cell_type": "code",
      "execution_count": 19,
      "metadata": {
        "colab": {
          "base_uri": "https://localhost:8080/"
        },
        "id": "ktm4Oj2ISV2s",
        "outputId": "f4268c8c-fef7-44fb-ddb7-b895a71c0d3e"
      },
      "outputs": [
        {
          "name": "stdout",
          "output_type": "stream",
          "text": [
            "(53940, 10)\n",
            "   carat      cut color clarity  depth  table  price     x     y     z\n",
            "0   0.23    Ideal     E     SI2   61.5   55.0    326  3.95  3.98  2.43\n",
            "1   0.21  Premium     E     SI1   59.8   61.0    326  3.89  3.84  2.31\n",
            "2   0.23     Good     E     VS1   56.9   65.0    327  4.05  4.07  2.31\n",
            "3   0.29  Premium     I     VS2   62.4   58.0    334  4.20  4.23  2.63\n",
            "4   0.31     Good     J     SI2   63.3   58.0    335  4.34  4.35  2.75\n"
          ]
        }
      ],
      "source": [
        "df = sns.load_dataset('diamonds')\n",
        "print(df.shape)\n",
        "print(df.head())"
      ]
    },
    {
      "cell_type": "code",
      "execution_count": 20,
      "metadata": {
        "colab": {
          "base_uri": "https://localhost:8080/"
        },
        "id": "L45bzC_vSV56",
        "outputId": "45246f35-2f3f-41df-e3d9-4bd8701422ac"
      },
      "outputs": [
        {
          "name": "stdout",
          "output_type": "stream",
          "text": [
            "(53940, 7)\n",
            "   carat  depth  table  price     x     y     z\n",
            "0   0.23   61.5   55.0    326  3.95  3.98  2.43\n",
            "1   0.21   59.8   61.0    326  3.89  3.84  2.31\n",
            "2   0.23   56.9   65.0    327  4.05  4.07  2.31\n",
            "3   0.29   62.4   58.0    334  4.20  4.23  2.63\n",
            "4   0.31   63.3   58.0    335  4.34  4.35  2.75\n"
          ]
        }
      ],
      "source": [
        "df = df.select_dtypes(include=['float64', 'int64'])\n",
        "df = df.dropna()\n",
        "print(df.shape)\n",
        "print(df.head())"
      ]
    },
    {
      "cell_type": "code",
      "execution_count": 21,
      "metadata": {
        "colab": {
          "base_uri": "https://localhost:8080/"
        },
        "id": "VhxPYPm9SV9H",
        "outputId": "ab4965e3-fab3-4748-e2a9-e0a029af0321"
      },
      "outputs": [
        {
          "name": "stdout",
          "output_type": "stream",
          "text": [
            "carat True\n",
            "depth True\n",
            "table True\n",
            "price True\n",
            "x True\n",
            "y True\n",
            "z True\n"
          ]
        }
      ],
      "source": [
        "for col in df.columns:\n",
        "    print(col, check_outlier(df, col))"
      ]
    },
    {
      "cell_type": "code",
      "execution_count": 22,
      "metadata": {
        "colab": {
          "base_uri": "https://localhost:8080/"
        },
        "id": "YxLy2NXoSqdJ",
        "outputId": "3ba32536-65d3-45db-ecfc-a4161cba3458"
      },
      "outputs": [
        {
          "name": "stdout",
          "output_type": "stream",
          "text": [
            "1889\n"
          ]
        }
      ],
      "source": [
        "low, up = outlier_thresholds(df, \"carat\")\n",
        "print(df[((df[\"carat\"] < low) | (df[\"carat\"] > up))].shape[0])"
      ]
    }
  ],
  "metadata": {
    "colab": {
      "provenance": []
    },
    "kernelspec": {
      "display_name": "Python 3",
      "name": "python3"
    },
    "language_info": {
      "name": "python"
    }
  },
  "nbformat": 4,
  "nbformat_minor": 0
}
